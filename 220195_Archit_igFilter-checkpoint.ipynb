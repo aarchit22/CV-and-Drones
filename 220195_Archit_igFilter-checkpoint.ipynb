{
 "cells": [
  {
   "cell_type": "code",
   "execution_count": 1,
   "id": "e0aa7f48-b0d0-4eb5-9b14-dd32a7a0aff7",
   "metadata": {},
   "outputs": [],
   "source": [
    "from PIL import Image, ImageEnhance\n",
    "\n",
    "def ig_filter(s):\n",
    "    image = Image.open(s)\n",
    "    img=image.copy()\n",
    "    #Adjust brightness\n",
    "    enhancer_brightness = ImageEnhance.Brightness(img)\n",
    "    img = enhancer_brightness.enhance(0.5)\n",
    "\n",
    "    #Adjust contrast\n",
    "    enhancer_contrast = ImageEnhance.Contrast(img)\n",
    "    img = enhancer_contrast.enhance(1.5)\n",
    "\n",
    "    #Adjust saturation\n",
    "    enhancer_saturation = ImageEnhance.Color(img)\n",
    "    img = enhancer_saturation.enhance(1.5)\n",
    "\n",
    "    image.show()\n",
    "    img.show()\n",
    "\n",
    "s = 'switzerland.jpg'\n",
    "ig_filter(s)\n"
   ]
  },
  {
   "cell_type": "code",
   "execution_count": null,
   "id": "0ce537c5-29e3-4f3d-9eb4-b6782c05fd0e",
   "metadata": {},
   "outputs": [],
   "source": []
  }
 ],
 "metadata": {
  "kernelspec": {
   "display_name": "Python 3 (ipykernel)",
   "language": "python",
   "name": "python3"
  },
  "language_info": {
   "codemirror_mode": {
    "name": "ipython",
    "version": 3
   },
   "file_extension": ".py",
   "mimetype": "text/x-python",
   "name": "python",
   "nbconvert_exporter": "python",
   "pygments_lexer": "ipython3",
   "version": "3.12.0"
  }
 },
 "nbformat": 4,
 "nbformat_minor": 5
}
